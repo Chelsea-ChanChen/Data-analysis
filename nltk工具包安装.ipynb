{
 "cells": [
  {
   "cell_type": "code",
   "execution_count": 1,
   "id": "1432f47e-567a-4a4c-bfa9-a9c38c8dcff2",
   "metadata": {},
   "outputs": [
    {
     "name": "stdout",
     "output_type": "stream",
     "text": [
      "showing info https://raw.githubusercontent.com/nltk/nltk_data/gh-pages/index.xml\n"
     ]
    },
    {
     "name": "stderr",
     "output_type": "stream",
     "text": [
      "2025-04-22 14:35:19.690 Python[1223:16748] +[IMKClient subclass]: chose IMKClient_Modern\n",
      "2025-04-22 16:34:42.245 Python[1223:16748] +[IMKInputSession subclass]: chose IMKInputSession_Modern\n",
      "2025-04-22 16:34:53.958 Python[1223:16748] _TIPropertyValueIsValid called with 12 on nil context!\n",
      "2025-04-22 16:34:53.958 Python[1223:16748] imkxpc_setApplicationProperty:value:reply: called with incorrect property value 12, bailing.\n",
      "2025-04-22 16:35:13.893 Python[1223:16748] error messaging the mach port for IMKCFRunLoopWakeUpReliable\n"
     ]
    },
    {
     "name": "stdout",
     "output_type": "stream",
     "text": [
      "showing info https://raw.githubusercontent.com/nltk/nltk_data/gh-pages/index.xml\n"
     ]
    },
    {
     "data": {
      "text/plain": [
       "True"
      ]
     },
     "execution_count": 1,
     "metadata": {},
     "output_type": "execute_result"
    }
   ],
   "source": [
    "import nltk #pip install nltk\n",
    "nltk.download()"
   ]
  },
  {
   "cell_type": "code",
   "execution_count": 2,
   "id": "b98d62ab-6a34-4e7e-8320-34cac01fdee7",
   "metadata": {},
   "outputs": [],
   "source": [
    "#分词"
   ]
  },
  {
   "cell_type": "code",
   "execution_count": 2,
   "id": "bfcb1495-b5ed-4c47-a78d-97a4bc2ec683",
   "metadata": {},
   "outputs": [],
   "source": [
    "from nltk.tokenize import word_tokenize\n",
    "from nltk.text import Text"
   ]
  },
  {
   "cell_type": "code",
   "execution_count": 3,
   "id": "ce63d449-0474-4be4-9b92-2df0872717aa",
   "metadata": {},
   "outputs": [],
   "source": [
    "input_str=\"Today's weather is good, very windy and sunny, we have no classes in the afternoon. We have to play basketball tomorrow.\""
   ]
  },
  {
   "cell_type": "code",
   "execution_count": 4,
   "id": "4e59b922-ad89-495e-9831-c14ccd968812",
   "metadata": {},
   "outputs": [],
   "source": [
    "tokens = word_tokenize(input_str)"
   ]
  },
  {
   "cell_type": "code",
   "execution_count": 6,
   "id": "a446be30-a050-46de-a576-b600a60456f4",
   "metadata": {},
   "outputs": [
    {
     "name": "stdout",
     "output_type": "stream",
     "text": [
      "['Today', \"'s\", 'weather', 'is', 'good', ',', 'very', 'windy', 'and', 'sunny', ',', 'we', 'have', 'no', 'classes', 'in', 'the', 'afternoon', '.', 'We', 'have', 'to', 'play', 'basketball', 'tomorrow', '.']\n"
     ]
    }
   ],
   "source": [
    "print(tokens)"
   ]
  },
  {
   "cell_type": "code",
   "execution_count": null,
   "id": "9b6b9846-9648-4b6e-9e68-33487f5ffd14",
   "metadata": {},
   "outputs": [],
   "source": []
  }
 ],
 "metadata": {
  "kernelspec": {
   "display_name": "Python 3 (ipykernel)",
   "language": "python",
   "name": "python3"
  },
  "language_info": {
   "codemirror_mode": {
    "name": "ipython",
    "version": 3
   },
   "file_extension": ".py",
   "mimetype": "text/x-python",
   "name": "python",
   "nbconvert_exporter": "python",
   "pygments_lexer": "ipython3",
   "version": "3.13.2"
  }
 },
 "nbformat": 4,
 "nbformat_minor": 5
}
