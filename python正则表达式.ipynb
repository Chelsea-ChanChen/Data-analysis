{
 "cells": [
  {
   "cell_type": "code",
   "execution_count": 40,
   "id": "cf25f3e8-bf1e-433b-b600-91ddfa1b62e1",
   "metadata": {},
   "outputs": [],
   "source": [
    "#python正则表达式"
   ]
  },
  {
   "cell_type": "code",
   "execution_count": 41,
   "id": "9c409411-2ad5-4d06-9d8b-478847b77072",
   "metadata": {},
   "outputs": [],
   "source": [
    "input='自然语言处理很重要。 12abc789'"
   ]
  },
  {
   "cell_type": "code",
   "execution_count": 42,
   "id": "cfc9e862-ce65-42f7-81f4-35b53e783e86",
   "metadata": {},
   "outputs": [],
   "source": [
    "import re  #导入re模块"
   ]
  },
  {
   "cell_type": "code",
   "execution_count": 56,
   "id": "16257b0e-2636-4c17-8840-d91ddba5dee5",
   "metadata": {},
   "outputs": [],
   "source": [
    "pattern=re.compile(r'.') #为模板赋值 \n",
    "#re.compile(r'.')\n",
    "#制定匹配的模式（'.'会匹配出了换行符'\\n'外的所有模块）"
   ]
  },
  {
   "cell_type": "code",
   "execution_count": 46,
   "id": "208835b4-a2af-4acf-8133-4648f4e7c9cd",
   "metadata": {},
   "outputs": [
    {
     "data": {
      "text/plain": [
       "['自',\n",
       " '然',\n",
       " '语',\n",
       " '言',\n",
       " '处',\n",
       " '理',\n",
       " '很',\n",
       " '重',\n",
       " '要',\n",
       " '。',\n",
       " ' ',\n",
       " '1',\n",
       " '2',\n",
       " 'a',\n",
       " 'b',\n",
       " 'c',\n",
       " '7',\n",
       " '8',\n",
       " '9']"
      ]
     },
     "execution_count": 46,
     "metadata": {},
     "output_type": "execute_result"
    }
   ],
   "source": [
    "re.findall(pattern,input_str) #寻找满足模板的内容"
   ]
  },
  {
   "cell_type": "code",
   "execution_count": 57,
   "id": "025da6a6-f045-4b20-9060-dbf0bd4661ae",
   "metadata": {},
   "outputs": [],
   "source": [
    "#[abd] 指定包含字符\n",
    "#[a-zA-Z]来指定所以英文字母的大小写\n",
    "#[^a-zA-Z]指定不匹配所有英文字母"
   ]
  },
  {
   "cell_type": "code",
   "execution_count": 58,
   "id": "539ea800-c97f-4295-893a-f1b6feae37cf",
   "metadata": {},
   "outputs": [],
   "source": [
    "pattern=re.compile(r'[abc]')"
   ]
  },
  {
   "cell_type": "code",
   "execution_count": 59,
   "id": "5961e354-0d7a-48a8-a3fc-11d6204b8e65",
   "metadata": {},
   "outputs": [
    {
     "data": {
      "text/plain": [
       "['a', 'b', 'c']"
      ]
     },
     "execution_count": 59,
     "metadata": {},
     "output_type": "execute_result"
    }
   ],
   "source": [
    "re.findall(pattern,input_str)"
   ]
  },
  {
   "cell_type": "code",
   "execution_count": 60,
   "id": "0927f053-9db5-4ba9-b78a-80359f171050",
   "metadata": {},
   "outputs": [],
   "source": [
    "pattern=re.compile(r'[a-zA-Z]')"
   ]
  },
  {
   "cell_type": "code",
   "execution_count": 61,
   "id": "22e2925a-8bda-4672-8b41-6afb9beb8681",
   "metadata": {},
   "outputs": [
    {
     "data": {
      "text/plain": [
       "['a', 'b', 'c']"
      ]
     },
     "execution_count": 61,
     "metadata": {},
     "output_type": "execute_result"
    }
   ],
   "source": [
    "re.findall(pattern,input_str)"
   ]
  },
  {
   "cell_type": "code",
   "execution_count": 62,
   "id": "c23d7177-c559-472e-8b0b-f44cfc2fd677",
   "metadata": {},
   "outputs": [],
   "source": [
    "pattern=re.compile(r'[^a-zA-Z]')"
   ]
  },
  {
   "cell_type": "code",
   "execution_count": 63,
   "id": "acfa85ea-f4b8-41a9-b9d8-75941a07f14a",
   "metadata": {},
   "outputs": [
    {
     "data": {
      "text/plain": [
       "['自',\n",
       " '然',\n",
       " '语',\n",
       " '言',\n",
       " '处',\n",
       " '理',\n",
       " '很',\n",
       " '重',\n",
       " '要',\n",
       " '。',\n",
       " ' ',\n",
       " '1',\n",
       " '2',\n",
       " '7',\n",
       " '8',\n",
       " '9']"
      ]
     },
     "execution_count": 63,
     "metadata": {},
     "output_type": "execute_result"
    }
   ],
   "source": [
    "re.findall(pattern,input_str)"
   ]
  },
  {
   "cell_type": "code",
   "execution_count": 65,
   "id": "e6a865fb-0514-4296-b825-8594bd86292f",
   "metadata": {},
   "outputs": [],
   "source": [
    "#或方法\n",
    "#将两个规则并列起来，以'|'连接，表示只要满足其中之一就可以四配。\n",
    "#[a-zA-Z]|[0-9]表示满足数字或字母就可以匹配，\n",
    "#这个规则等价于 [a-zA-Z0-9]"
   ]
  },
  {
   "cell_type": "code",
   "execution_count": 68,
   "id": "7ac02044-2af7-4f9b-88f8-9fe4ae9a2a63",
   "metadata": {},
   "outputs": [
    {
     "data": {
      "text/plain": [
       "['1', '2', 'a', 'b', 'c', '7', '8', '9']"
      ]
     },
     "execution_count": 68,
     "metadata": {},
     "output_type": "execute_result"
    }
   ],
   "source": [
    "pattern=re.compile(r'[a-zA-Z]|[0-9]')\n",
    "re.findall(pattern,input_str)"
   ]
  },
  {
   "cell_type": "code",
   "execution_count": 111,
   "id": "f11f4614-83c8-41bc-9a22-a78fc3447301",
   "metadata": {},
   "outputs": [],
   "source": [
    "#'\\d'匹配数字等价于[0-9]\n",
    "#'\\D'匹配非数字\n",
    "#'\\w'匹配字母和数字\n",
    "#'\\W'匹配非字母和数字\n",
    "#'\\s'匹配间隔符"
   ]
  },
  {
   "cell_type": "code",
   "execution_count": 72,
   "id": "c0b6df95-9e99-424d-ac3e-935e42a2fcb7",
   "metadata": {},
   "outputs": [
    {
     "data": {
      "text/plain": [
       "['自', '然', '语', '言', '处', '理', '很', '重', '要', '。', ' ', 'a', 'b', 'c']"
      ]
     },
     "execution_count": 72,
     "metadata": {},
     "output_type": "execute_result"
    }
   ],
   "source": [
    "pattern=re.compile(r'\\D')\n",
    "re.findall(pattern,input_str)"
   ]
  },
  {
   "cell_type": "code",
   "execution_count": 73,
   "id": "4a3c9701-068e-4d9c-952d-fb2c0e5b5439",
   "metadata": {},
   "outputs": [
    {
     "data": {
      "text/plain": [
       "['1', '2', '7', '8', '9']"
      ]
     },
     "execution_count": 73,
     "metadata": {},
     "output_type": "execute_result"
    }
   ],
   "source": [
    "pattern=re.compile(r'\\d')\n",
    "re.findall(pattern,input_str)"
   ]
  },
  {
   "cell_type": "code",
   "execution_count": 74,
   "id": "4a8598da-b4db-42fc-8524-02f91b279066",
   "metadata": {},
   "outputs": [
    {
     "data": {
      "text/plain": [
       "['。', ' ']"
      ]
     },
     "execution_count": 74,
     "metadata": {},
     "output_type": "execute_result"
    }
   ],
   "source": [
    "pattern=re.compile(r'\\W')\n",
    "re.findall(pattern,input_str)"
   ]
  },
  {
   "cell_type": "code",
   "execution_count": 75,
   "id": "43449b97-a0ff-4316-b234-dd351b727504",
   "metadata": {},
   "outputs": [
    {
     "data": {
      "text/plain": [
       "['自',\n",
       " '然',\n",
       " '语',\n",
       " '言',\n",
       " '处',\n",
       " '理',\n",
       " '很',\n",
       " '重',\n",
       " '要',\n",
       " '1',\n",
       " '2',\n",
       " 'a',\n",
       " 'b',\n",
       " 'c',\n",
       " '7',\n",
       " '8',\n",
       " '9']"
      ]
     },
     "execution_count": 75,
     "metadata": {},
     "output_type": "execute_result"
    }
   ],
   "source": [
    "pattern=re.compile(r'\\w')\n",
    "re.findall(pattern,input_str)"
   ]
  },
  {
   "cell_type": "code",
   "execution_count": 77,
   "id": "246df06a-0c1d-4c1f-aab8-3aec61dbd6f7",
   "metadata": {},
   "outputs": [
    {
     "data": {
      "text/plain": [
       "[' ']"
      ]
     },
     "execution_count": 77,
     "metadata": {},
     "output_type": "execute_result"
    }
   ],
   "source": [
    "pattern=re.compile(r'\\s')\n",
    "re.findall(pattern,input_str)"
   ]
  },
  {
   "cell_type": "code",
   "execution_count": 112,
   "id": "10a77d3c-5145-40c2-bb5a-e2aa8e468381",
   "metadata": {},
   "outputs": [],
   "source": [
    "#重复\n",
    "#正则式可以匹配不定长的字符串\n",
    "#'*'0 或多次匹配\n",
    "#'+'1次或多次匹配(优先多的)\n",
    "#'?'0或1次匹配"
   ]
  },
  {
   "cell_type": "code",
   "execution_count": 80,
   "id": "9ebee33b-fea0-41f5-95a1-3623b545773c",
   "metadata": {},
   "outputs": [
    {
     "data": {
      "text/plain": [
       "['', '', '', '', '', '', '', '', '', '', '', '12', '', '', '', '789', '']"
      ]
     },
     "execution_count": 80,
     "metadata": {},
     "output_type": "execute_result"
    }
   ],
   "source": [
    "pattern=re.compile(r'\\d*')\n",
    "re.findall(pattern,input_str)"
   ]
  },
  {
   "cell_type": "code",
   "execution_count": 81,
   "id": "59fc1573-484f-4bbc-ae16-72266c382847",
   "metadata": {},
   "outputs": [
    {
     "data": {
      "text/plain": [
       "['12', '789']"
      ]
     },
     "execution_count": 81,
     "metadata": {},
     "output_type": "execute_result"
    }
   ],
   "source": [
    "pattern=re.compile(r'\\d+')\n",
    "re.findall(pattern,input_str)"
   ]
  },
  {
   "cell_type": "code",
   "execution_count": 82,
   "id": "a77978d2-7110-4550-bcd0-f2269efceaed",
   "metadata": {},
   "outputs": [
    {
     "data": {
      "text/plain": [
       "['',\n",
       " '',\n",
       " '',\n",
       " '',\n",
       " '',\n",
       " '',\n",
       " '',\n",
       " '',\n",
       " '',\n",
       " '',\n",
       " '',\n",
       " '1',\n",
       " '2',\n",
       " '',\n",
       " '',\n",
       " '',\n",
       " '7',\n",
       " '8',\n",
       " '9',\n",
       " '']"
      ]
     },
     "execution_count": 82,
     "metadata": {},
     "output_type": "execute_result"
    }
   ],
   "source": [
    "pattern=re.compile(r'\\d?')\n",
    "re.findall(pattern,input_str)"
   ]
  },
  {
   "cell_type": "code",
   "execution_count": 84,
   "id": "a33b446e-a02d-46ee-9e59-1cce04abe990",
   "metadata": {},
   "outputs": [],
   "source": [
    "#精确匹配和最小匹配(m,n为实数)\n",
    "#{m} 精确匹配m次\n",
    "#{m,n} 匹配最少 m 次，最多n次。(n>m)"
   ]
  },
  {
   "cell_type": "code",
   "execution_count": 90,
   "id": "ddf6bbea-6ae5-4710-ae23-ed929cf18cba",
   "metadata": {},
   "outputs": [
    {
     "data": {
      "text/plain": [
       "['12', '78']"
      ]
     },
     "execution_count": 90,
     "metadata": {},
     "output_type": "execute_result"
    }
   ],
   "source": [
    "pattern=re.compile(r'\\d{2}')\n",
    "re.findall(pattern,input_str)\n",
    "#在正则表达式中，\n",
    "#{2} 是一个量词（quantifier），表示前面的元素（在这个例子中是 \\d）必须恰好出现两次。\n",
    "#{2} 表示前面的元素必须恰好出现两次。\n",
    "#因此，\\d{2} 匹配任何两个连续的数字。"
   ]
  },
  {
   "cell_type": "code",
   "execution_count": 91,
   "id": "a4cc3d29-d508-46a9-88cb-b3b53b2fcd99",
   "metadata": {},
   "outputs": [
    {
     "data": {
      "text/plain": [
       "['789']"
      ]
     },
     "execution_count": 91,
     "metadata": {},
     "output_type": "execute_result"
    }
   ],
   "source": [
    "pattern=re.compile(r'\\d{3}')\n",
    "re.findall(pattern,input_str)"
   ]
  },
  {
   "cell_type": "code",
   "execution_count": 92,
   "id": "269db137-440d-4f9b-a85c-0d0c348eb262",
   "metadata": {},
   "outputs": [
    {
     "data": {
      "text/plain": [
       "[]"
      ]
     },
     "execution_count": 92,
     "metadata": {},
     "output_type": "execute_result"
    }
   ],
   "source": [
    "pattern=re.compile(r'\\d{4}')\n",
    "re.findall(pattern,input_str)"
   ]
  },
  {
   "cell_type": "code",
   "execution_count": 93,
   "id": "e588c8c1-4409-480b-be63-7529e6266267",
   "metadata": {},
   "outputs": [
    {
     "data": {
      "text/plain": [
       "['1', '2', '7', '8', '9']"
      ]
     },
     "execution_count": 93,
     "metadata": {},
     "output_type": "execute_result"
    }
   ],
   "source": [
    "pattern=re.compile(r'\\d{1}')\n",
    "re.findall(pattern,input_str)"
   ]
  },
  {
   "cell_type": "code",
   "execution_count": 96,
   "id": "24a270b2-707c-40da-b63a-b6b848c16ca8",
   "metadata": {},
   "outputs": [],
   "source": [
    "#match 与search\n",
    "#它们的返回不是一个简单的字符串列表，而是一个 Matchobject,可以得到更多的信息。\n",
    "#如果匹配不成功，它们则返回一个NoneType(会报错)。所以在对匹配完的结果进行操作之前，必需先判断一下是否四配成功了(用if match...来限制输出)\n",
    "#match从字符串的开头开始匹配，如果开头位置没有匹配成功，就算失败了;而 search 会跳过开头，继续向后寻找是否有匹配的字符串"
   ]
  },
  {
   "cell_type": "code",
   "execution_count": 97,
   "id": "cab09da0-2c8f-4264-8247-1b6cb5f0b4e4",
   "metadata": {},
   "outputs": [],
   "source": [
    "input2='123自然语言处理'"
   ]
  },
  {
   "cell_type": "code",
   "execution_count": 103,
   "id": "75efe2f4-92fc-4b13-a592-de0cca41baf3",
   "metadata": {},
   "outputs": [
    {
     "data": {
      "text/plain": [
       "'1'"
      ]
     },
     "execution_count": 103,
     "metadata": {},
     "output_type": "execute_result"
    }
   ],
   "source": [
    "pattern=re.compile(r'\\d')\n",
    "match=re.match(pattern,input2)\n",
    "match.group()"
   ]
  },
  {
   "cell_type": "code",
   "execution_count": 105,
   "id": "20c0a31b-1674-46f0-9d58-51c172853e8a",
   "metadata": {},
   "outputs": [],
   "source": [
    "#字符串的替换和修改(可用于清洗)\n",
    "#在目标字符串中规格规则查找匹配的字符串，再把它们替换成指定的字符串。\n",
    "#你可以指定一个最多替换次数，否则将替换所有的匹配到的字符串\n",
    "#sub ( rule , replace , target [,count] )\n",
    "#subn(rule ,replace ,target [,count] )\n",
    "#第一个参数是正则规则，第二个参数是指定的用来替换的字符串，第三个参数是目标字符串，第四个参数是最多替换次数,\n",
    "#sub 返回一个被替换的字符串\n",
    "#subn 返回一个元组，第一个元素是被替换的字符串，第二个元素是一个数字，表明产生了多少次替换。"
   ]
  },
  {
   "cell_type": "code",
   "execution_count": 107,
   "id": "4a662a2f-d19f-4f49-bbc4-a61e8eecf103",
   "metadata": {},
   "outputs": [
    {
     "data": {
      "text/plain": [
       "'数字数字数字自然语言处理'"
      ]
     },
     "execution_count": 107,
     "metadata": {},
     "output_type": "execute_result"
    }
   ],
   "source": [
    "pattern=re.compile(r'\\d')\n",
    "re.sub(pattern,'数字',input2)"
   ]
  },
  {
   "cell_type": "code",
   "execution_count": 109,
   "id": "67222557-a841-4e8d-9601-e38d02db5b41",
   "metadata": {},
   "outputs": [
    {
     "data": {
      "text/plain": [
       "('数字数字数字自然语言处理', 3)"
      ]
     },
     "execution_count": 109,
     "metadata": {},
     "output_type": "execute_result"
    }
   ],
   "source": [
    "pattern=re.compile(r'\\d')\n",
    "re.subn(pattern,'数字',input2) \n",
    "#其中n表示替换的次数"
   ]
  },
  {
   "cell_type": "code",
   "execution_count": 110,
   "id": "72d8296c-18f1-4001-a661-eda26325d1ba",
   "metadata": {},
   "outputs": [
    {
     "data": {
      "text/plain": [
       "('自然语言处理', 3)"
      ]
     },
     "execution_count": 110,
     "metadata": {},
     "output_type": "execute_result"
    }
   ],
   "source": [
    "pattern=re.compile(r'\\d')\n",
    "re.subn(pattern,'',input2) \n",
    "#过滤操作"
   ]
  },
  {
   "cell_type": "code",
   "execution_count": null,
   "id": "00072c6b-ac91-487c-8c36-ee8be4c3af7c",
   "metadata": {},
   "outputs": [],
   "source": [
    "#split 切片函数。\n",
    "#使用指定的正则规则在目标字符串中查找匹配的字符串，用它们作为分界，\n",
    "#把字符串切片split( rule , target [,maxsplit] )\n",
    "#第一个参数是正则规则，第二个参数是目标字符串，第三个参数是最多切片次数,\n",
    "#返回一个被切完的子字符串的列表"
   ]
  },
  {
   "cell_type": "code",
   "execution_count": 114,
   "id": "5f39010f-e868-4747-878b-9b062c09c472",
   "metadata": {},
   "outputs": [
    {
     "data": {
      "text/plain": [
       "['自然语言处理', '机器学习', '深度学习']"
      ]
     },
     "execution_count": 114,
     "metadata": {},
     "output_type": "execute_result"
    }
   ],
   "source": [
    "input3='自然语言处理123机器学习456深度学习'\n",
    "pattern=re.compile(r'\\d+')\n",
    "re.split(pattern,input3)"
   ]
  },
  {
   "cell_type": "code",
   "execution_count": 115,
   "id": "6f73f78b-5ff4-43e5-8ac0-37e78756426b",
   "metadata": {},
   "outputs": [],
   "source": [
    "#'(?P...)'命名组\n",
    "#<...>'里面是你给这个组起的名字，"
   ]
  },
  {
   "cell_type": "code",
   "execution_count": 116,
   "id": "7aa8fa60-5eb1-4025-9a22-e5fae1d2049b",
   "metadata": {},
   "outputs": [
    {
     "data": {
      "text/plain": [
       "'123'"
      ]
     },
     "execution_count": 116,
     "metadata": {},
     "output_type": "execute_result"
    }
   ],
   "source": [
    "pattern=re.compile(r'(?P<dota>\\d+)(?P<lol>\\D+)')\n",
    "m=re.search(pattern,input3)\n",
    "m.group('dota')"
   ]
  },
  {
   "cell_type": "code",
   "execution_count": 117,
   "id": "b21f3db8-13a5-4ea3-a6f1-372b6a66cf1d",
   "metadata": {},
   "outputs": [
    {
     "data": {
      "text/plain": [
       "'机器学习'"
      ]
     },
     "execution_count": 117,
     "metadata": {},
     "output_type": "execute_result"
    }
   ],
   "source": [
    "pattern=re.compile(r'(?P<dota>\\d+)(?P<lol>\\D+)')\n",
    "m=re.search(pattern,input3)\n",
    "m.group('lol')"
   ]
  },
  {
   "cell_type": "code",
   "execution_count": 120,
   "id": "1089076d-b125-4495-9e50-a23a7b77b081",
   "metadata": {},
   "outputs": [
    {
     "name": "stdout",
     "output_type": "stream",
     "text": [
      "338-343-220\n"
     ]
    }
   ],
   "source": [
    "#例子\n",
    "#筛选号码\n",
    "input4='number 338-343-220'\n",
    "pattern=re.compile(r'(\\d\\d\\d-\\d\\d\\d-\\d\\d\\d)')\n",
    "m=re.search(pattern,input4)\n",
    "print(m.group())"
   ]
  },
  {
   "cell_type": "code",
   "execution_count": null,
   "id": "a4f7299d-78ca-4599-9692-d92b3f91fa0b",
   "metadata": {},
   "outputs": [],
   "source": []
  },
  {
   "cell_type": "code",
   "execution_count": null,
   "id": "609f0e64-f3ad-4bde-807c-cc129a64f2d4",
   "metadata": {},
   "outputs": [],
   "source": []
  },
  {
   "cell_type": "code",
   "execution_count": null,
   "id": "4d5eabaf-c4ca-4dce-9872-3a716ce5ad42",
   "metadata": {},
   "outputs": [],
   "source": []
  }
 ],
 "metadata": {
  "kernelspec": {
   "display_name": "Python 3 (ipykernel)",
   "language": "python",
   "name": "python3"
  },
  "language_info": {
   "codemirror_mode": {
    "name": "ipython",
    "version": 3
   },
   "file_extension": ".py",
   "mimetype": "text/x-python",
   "name": "python",
   "nbconvert_exporter": "python",
   "pygments_lexer": "ipython3",
   "version": "3.13.2"
  }
 },
 "nbformat": 4,
 "nbformat_minor": 5
}
